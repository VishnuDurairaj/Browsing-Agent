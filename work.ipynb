{
 "cells": [
  {
   "cell_type": "code",
   "execution_count": 3,
   "metadata": {},
   "outputs": [],
   "source": [
    "\n",
    "from dotenv import load_dotenv\n",
    "\n",
    "load_dotenv() "
   ]
  },
  {
   "cell_type": "markdown",
   "metadata": {},
   "source": [
    "# Web Search"
   ]
  },
  {
   "cell_type": "code",
   "execution_count": 1,
   "metadata": {},
   "outputs": [
    {
     "data": {
      "text/plain": [
       "{'success': True,\n",
       " 'data': [{'title': 'Learn with Vichu - YouTube',\n",
       "   'url': 'https://www.youtube.com/@learnwithvichu',\n",
       "   'description': 'Do you want tolearnmachine learning and deep learning in a fun way?. then thischannelisfor you. you can findvideosrelated to python, machine learning,...'},\n",
       "  {'title': 'vichu - YouTube',\n",
       "   'url': 'https://www.youtube.com/channel/UChuQBUSLJfx4G3JfE2kvHYA/videos',\n",
       "   'description': 'Learndriving in 5 hours at your door step'},\n",
       "  {'title': 'Vichu - YouTube',\n",
       "   'url': 'https://www.youtube.com/channel/UCMPTINKbL7T16AUPJXS5AHg/playlists',\n",
       "   'description': 'Support ourYouTubechannel....VichuHD-MMR100- 200- 300- 400- 500- 600- 700- 800- 900- 1000/1K- - Waiting for it.... First preference.... ️'},\n",
       "  {'title': 'How to Start a Youtube Channel for Beginners: 7 Pro Tips',\n",
       "   'url': 'https://www.skillshare.com/en/blog/how-to-start-a-youtube-channel-for-beginners-7-pro-tips/',\n",
       "   'description': 'Click on your profile picture to reveal a dropdown menu. 3. Choose \"Create aChannel\". In the dropdown menu you\\'ve just opened, select the \"Create achannel\" option. You may be prompted to enter your name and decide whether you want to use your personal Google account name for yourchannel.'},\n",
       "  {'title': 'The next chapter for Learning on YouTube',\n",
       "   'url': 'https://blog.youtube/news-and-events/the-next-chapter-for-learning-on-youtube/',\n",
       "   'description': 'Making learning more interactive onYouTube. Next year, qualified creators can begin offering free or paid Courses to provide in-depth, structured learning experiences for viewers. Viewers who choose to buy a Course can watch thevideoad-free and play it in the background. Courses will arrive first in the United States and South Korea in beta ...'},\n",
       "  {'title': 'Vichu channel - YouTube',\n",
       "   'url': 'https://www.youtube.com/channel/UCotA4XGEXnekcts_kI9FD6Q/videos',\n",
       "   'description': 'Share yourvideoswithfriends, family, and the world'},\n",
       "  {'title': 'The Latest YouTube News, Events, & Announcements - YouTube Blog',\n",
       "   'url': 'https://blog.youtube/news-and-events/',\n",
       "   'description': 'Discover everything that is happening atYouTube, fromthelatestnews and events, to the most recent announcements and platform updates. News and Events. ...Videoformat not supported News and Events. AI & Creators: The future of Tech and Creativity Sep.24.2024. All theLatest.'},\n",
       "  {'title': 'HTML Auto Embedding Recent Uploaded videos from a youtube channel',\n",
       "   'url': 'https://stackoverflow.com/questions/18267426/html-auto-embedding-recent-uploaded-videos-from-a-youtube-channel',\n",
       "   'description': 'In 2022, embedding thelatestvideofrom aYouTubechannelisquite complicated, but I found a solution that works for personal accounts and brand accounts:. Login toYouTubeand open the advanced settings; Copy yourchannelID (it will start with \"UC\" and then some cryptic characters, e.g. \"UCYCJ5V6CYFhUr7AhlKaYL4A\")'},\n",
       "  {'title': 'The 100+ Best Educational YouTube Channels in 2023 - College Info Geek',\n",
       "   'url': 'https://collegeinfogeek.com/educational-youtube-channels/',\n",
       "   'description': \"TheCoding Train. In the future, being able to code will be as crucial as knowing how to read. Okay, so that's probably an exaggeration, but if you've been wanting tolearnhow to code, The Coding Train is a great place to start. Thevideosare detailed, easy to understand, and even funny.\"},\n",
       "  {'title': '20 Best Educational YouTube Channels to Watch in 2023',\n",
       "   'url': 'https://offeo.com/learn/best-educational-youtube-channels',\n",
       "   'description': 'Khan Academy is an educationalYoutubechannelthat offers practice exercises, instructionalvideos, and a personalized learning dashboard. Sal Khan launched the Khan Academy in 2006, intending to create a set of online tools that help educate students. The organization produces short lessons in the form ofvideos.'},\n",
       "  {'title': 'Olivia Joining The Disney Channel?!',\n",
       "   'url': 'https://www.msn.com/en-us/video/peopleandplaces/olivia-joining-the-disney-channel/vi-AA1svN1b',\n",
       "   'description': \"Thebest late-night host of all time isn't Leno or Letterman, according to fans. See the top 20.\"},\n",
       "  {'title': 'TaleTimeLearn - YouTube',\n",
       "   'url': 'https://www.youtube.com/channel/UCUVFlwXa6nGM6r4dtm2V8hw/community?lb=UgkxpfmVi3TBgljdvrcI3yI0zKyGh3ODx93P',\n",
       "   'description': '\"TaleTimeLearn\" is aYouTubechanneloffering insights into the history and evolution of beloved cartoon characters from both classic and new series. Eachvideodelves into a character\\'s ...'},\n",
       "  {'title': 'Advice I wish someone had told me before starting YouTube ... - Reddit',\n",
       "   'url': 'https://www.reddit.com/r/youtubers/comments/oat7de/advice_i_wish_someone_had_told_me_before_starting/',\n",
       "   'description': \"First decidewhat'syour main goalis, whetherisityoutube, TikTok, Facebook, Instagram, etc. Then put full effort into that. About shortvideo, it's fine but put the best 15 sec of thevideo. Or make better content in shortvideo, (example: Evolution of Minecraft in 15 sec (withsubtitle)).\"},\n",
       "  {'title': 'vichu vlogs - YouTube',\n",
       "   'url': 'https://www.youtube.com/channel/UCevRcz_lIoXBGQIHb98pyvw/videos',\n",
       "   'description': 'Share yourvideoswithfriends, family, and the world'},\n",
       "  {'title': \"Vichu's World - YouTube\",\n",
       "   'url': 'https://www.youtube.com/@vichuworld/channels',\n",
       "   'description': 'For MoreVideosFollow Mychannel: https://bit.ly/vichuworld Welcome to mychannel! Join me as I share insights from my personal and professional journey. A...'},\n",
       "  {'title': 'YouTube',\n",
       "   'url': 'https://www.youtube.com/',\n",
       "   'description': 'Enjoy thevideosand music you love, upload original content, and share it all with friends, family, and the world onYouTube.'},\n",
       "  {'title': 'Just Another Dang How To Channel - YouTube',\n",
       "   'url': 'https://www.youtube.com/Just%20Another%20Dang%20How%20To%20Channel',\n",
       "   'description': 'Thebest way tolearnisto teach. I love learning and I\\'m passionate about sharing the knowledge. Here, I serve up \"how-to\"videosonthelatesttech trends and handy Mac tips.'},\n",
       "  {'title': 'Knit With Hannah - YouTube',\n",
       "   'url': 'https://www.youtube.com/channel/UCghk2kbS6UQp_EixUo9Fqdw/community?lb=UgkxyK4tTdABz482UTTR9Wmsf9BUynszfoNq',\n",
       "   'description': \"A newvideoisreleased every Tuesday, at 9.30am UK time. ( if you watch a couple ofvideosyou'll realise that I have an British accent that might transport you right back into Harry Potter ...\"}]}"
      ]
     },
     "execution_count": 1,
     "metadata": {},
     "output_type": "execute_result"
    }
   ],
   "source": [
    "from ddg import Duckduckgo\n",
    "\n",
    "ddg_api = Duckduckgo()\n",
    "\n",
    "ddg_api.search(\"What is the latest video posted by Learn with Vichu youtube channel\")"
   ]
  },
  {
   "cell_type": "code",
   "execution_count": 33,
   "metadata": {},
   "outputs": [],
   "source": [
    "import asyncio\n",
    "from ddg import Duckduckgo\n",
    "from crawl4ai import AsyncWebCrawler\n",
    "\n",
    "class WebSearch:\n",
    "\n",
    "    def __init__(self,top_n_urls=5):\n",
    "\n",
    "        self.top_n_urls=top_n_urls\n",
    "\n",
    "        self.ddg_api = Duckduckgo()\n",
    "\n",
    "    def get_urls(self,searc_query):\n",
    "\n",
    "        \"Collects URLs using the duckduckgo API\"\n",
    "        \n",
    "        results = self.ddg_api.search(searc_query)\n",
    "\n",
    "        urls = [i['url'] for i in results['data']][1:self.top_n_urls+1]\n",
    "\n",
    "        return urls\n",
    "    \n",
    "    async def scrap_url(self,url):\n",
    "        \"Scraps Individual URLs\"\n",
    "\n",
    "        async with AsyncWebCrawler(verbose=True) as crawler:\n",
    "\n",
    "            result = await crawler.arun(url=url)\n",
    "\n",
    "            return (url,result.markdown)\n",
    "\n",
    "    async def search_online(self,search_query):\n",
    "\n",
    "        \"Main method to scrap data from websites\"\n",
    "\n",
    "        urls = self.get_urls(search_query)\n",
    "\n",
    "        tasks = [self.scrap_url(url) for url in urls]\n",
    "\n",
    "        results = await asyncio.gather(*tasks)\n",
    "\n",
    "        return results\n",
    "\n",
    "if __name__ == \"__main__\":\n",
    "\n",
    "    search_Engine = WebSearch()\n",
    "\n",
    "    content = asyncio.run(search_Engine.search_online(\"Who is the CEO of OpenAI\"))\n",
    "\n",
    "    print(\"-----------------------------------\")\n",
    "    print(content)\n",
    "    print(\"-----------------------------------\")\n"
   ]
  },
  {
   "cell_type": "markdown",
   "metadata": {},
   "source": [
    "# Vector Store"
   ]
  },
  {
   "cell_type": "code",
   "execution_count": 1,
   "metadata": {},
   "outputs": [
    {
     "name": "stderr",
     "output_type": "stream",
     "text": [
      "C:\\Users\\vishnu.d\\AppData\\Roaming\\Python\\Python312\\site-packages\\tqdm\\auto.py:21: TqdmWarning: IProgress not found. Please update jupyter and ipywidgets. See https://ipywidgets.readthedocs.io/en/stable/user_install.html\n",
      "  from .autonotebook import tqdm as notebook_tqdm\n"
     ]
    }
   ],
   "source": [
    "\n",
    "import sys\n",
    "sys.dont_write_bytecode =True\n",
    "\n",
    "# ------------------------------------------------- Qdrant Vector Store -------------------------------- #\n",
    "\n",
    "import uuid\n",
    "import hashlib\n",
    "from tqdm import tqdm\n",
    "from qdrant_client import QdrantClient\n",
    "\n",
    "class QdrantVectorStore:\n",
    "    \n",
    "    def __init__(self,db_location=\"qdrant\",dense_model=\"sentence-transformers/all-MiniLM-L6-v2\",sparse_model = \"prithivida/Splade_PP_en_v1\",hybird=True) -> None:\n",
    "        \n",
    "        self.client = QdrantClient(path=f\"vector_stores/{db_location}\")\n",
    "        \n",
    "        self.client.set_model(dense_model)\n",
    "        # comment this line to use dense vectors only\n",
    "        if hybird:\n",
    "            self.client.set_sparse_model(sparse_model)\n",
    "\n",
    "            self.client.recreate_collection(\n",
    "                collection_name=\"default_schema\",\n",
    "                vectors_config=self.client.get_fastembed_vector_params(),\n",
    "                # comment this line to use dense vectors only\n",
    "                sparse_vectors_config=self.client.get_fastembed_sparse_vector_params(),  \n",
    "            )\n",
    "        else:\n",
    "\n",
    "            self.client.recreate_collection(\n",
    "                collection_name=\"default_schema\",\n",
    "                vectors_config=self.client.get_fastembed_vector_params()\n",
    "            )\n",
    "\n",
    "    def add_documents(self,documents,ids,metadata=[],collection_name=\"default_schema\"):\n",
    "\n",
    "        if not len(ids):\n",
    "\n",
    "            ids = [self.generate_uuid_based_id(doc) for doc in documents]\n",
    "\n",
    "        self.client.add(\n",
    "        collection_name=collection_name,\n",
    "        documents=documents,\n",
    "        metadata = metadata,\n",
    "        ids=tqdm(ids))\n",
    "\n",
    "    def get_relavant_documents(self, text: str,collection_name:str=\"default_schema\",top_n_similar_docs=6):\n",
    "        search_result = self.client.query(\n",
    "            collection_name=collection_name,\n",
    "            query_text=text,\n",
    "            limit=top_n_similar_docs, \n",
    "        )\n",
    "        metadata = [{\"id\":hit.id,\"document\":hit.metadata['document'],\"url\":hit.metadata['url']} for hit in search_result]\n",
    "\n",
    "        return metadata\n",
    "    \n",
    "    def generate_uuid_based_id(self, text):\n",
    "        \"\"\"\n",
    "        Generate a full UUID based on the given text using UUID5.\n",
    "\n",
    "        :param text: Input text to generate the unique ID from.\n",
    "        :return: A UUID string.\n",
    "        \"\"\"\n",
    "        # Generate a UUID based on a namespace and the text\n",
    "        namespace = uuid.NAMESPACE_DNS  # You can use different namespaces (DNS, URL, etc.)\n",
    "        \n",
    "        # Create a UUID5 based on the text and namespace\n",
    "        unique_uuid = uuid.uuid5(namespace, text)\n",
    "        \n",
    "        return str(unique_uuid)\n",
    "\n",
    "    def delete_existing_data(self):\n",
    "\n",
    "        return self.client.delete_collection(\"default_schema\")"
   ]
  },
  {
   "cell_type": "code",
   "execution_count": 2,
   "metadata": {},
   "outputs": [
    {
     "name": "stderr",
     "output_type": "stream",
     "text": [
      "Fetching 5 files: 100%|██████████| 5/5 [00:00<?, ?it/s]\n",
      "Fetching 5 files: 100%|██████████| 5/5 [00:00<?, ?it/s]\n",
      "C:\\Users\\vishnu.d\\AppData\\Local\\Temp\\ipykernel_140068\\2340448843.py:21: DeprecationWarning: `recreate_collection` method is deprecated and will be removed in the future. Use `collection_exists` to check collection existence and `create_collection` instead.\n",
      "  self.client.recreate_collection(\n"
     ]
    }
   ],
   "source": [
    "\n",
    "vdb = QdrantVectorStore()\n",
    "\n",
    "paragraphs = [\n",
    "    # Topic 1: Artificial Intelligence\n",
    "    \"Artificial intelligence (AI) is transforming the world in unprecedented ways. With machine learning algorithms becoming more sophisticated, AI is now capable of performing tasks that once required human intelligence. From natural language processing to self-driving cars, the applications are vast and varied.\",\n",
    "    \n",
    "    \"The ethical implications of AI are a major concern for researchers. While AI can enhance efficiency and decision-making, it also raises questions about privacy, bias, and job displacement. Balancing innovation with responsibility is critical to the future of AI development.\",\n",
    "    \n",
    "    \"AI in healthcare is proving to be a game-changer. With AI-powered diagnostic tools, doctors can detect diseases earlier and with greater accuracy. AI algorithms can also help in drug discovery and personalized treatment plans, making healthcare more precise and accessible.\",\n",
    "    \n",
    "    \"Deep learning, a subset of AI, is driving advancements in image and speech recognition. These technologies are being integrated into everyday devices such as smartphones and virtual assistants, making interactions with technology more seamless and intuitive.\",\n",
    "    \n",
    "    \"As AI continues to evolve, the debate over AI regulation grows louder. Policymakers are grappling with how to create frameworks that promote innovation while ensuring that AI is used ethically and safely. International cooperation will be key in shaping the future of AI regulation.\",\n",
    "    \n",
    "    # Topic 2: Climate Change\n",
    "    \"Climate change is one of the most pressing challenges facing humanity today. Rising global temperatures, melting ice caps, and extreme weather events are all symptoms of a warming planet, driven by human activities such as deforestation and burning fossil fuels.\",\n",
    "    \n",
    "    \"The Paris Agreement, signed by nearly 200 countries, aims to limit global warming to below 2 degrees Celsius. Despite these efforts, many experts warn that current commitments are not enough to meet these goals, and more aggressive action is needed.\",\n",
    "    \n",
    "    \"Renewable energy sources like solar, wind, and hydropower are critical in the fight against climate change. By transitioning to clean energy, we can reduce greenhouse gas emissions and slow the rate of global warming. However, this shift requires significant investment and global cooperation.\",\n",
    "    \n",
    "    \"Deforestation is a major contributor to climate change, as trees play a vital role in absorbing carbon dioxide from the atmosphere. Efforts to combat deforestation, such as reforestation projects and sustainable land use practices, are essential to curbing the effects of climate change.\",\n",
    "    \n",
    "    \"Climate change disproportionately affects vulnerable communities, particularly in developing countries. Rising sea levels, droughts, and extreme weather events threaten livelihoods, food security, and access to clean water. Addressing climate change requires a focus on both mitigation and adaptation strategies.\",\n",
    "    \n",
    "    # Topic 3: Space Exploration\n",
    "    \"Space exploration has fascinated humanity for centuries. From the first moon landing to the Mars rover missions, each step into the cosmos brings new discoveries and insights into the nature of our universe. Space agencies like NASA and private companies like SpaceX are leading the charge in the next era of space exploration.\",\n",
    "    \n",
    "    \"Mars has been a key focus for space exploration in recent years. With multiple missions from various space agencies, scientists are searching for signs of past or present life on the red planet. The ultimate goal is to one day establish a human presence on Mars.\",\n",
    "    \n",
    "    \"The development of reusable rockets by companies like SpaceX has revolutionized space travel. By significantly reducing the cost of launching payloads into orbit, reusable rockets are making space more accessible and opening the door to new commercial opportunities.\",\n",
    "    \n",
    "    \"The search for extraterrestrial life is one of the most intriguing aspects of space exploration. Scientists are using advanced telescopes and probes to search for habitable planets and signs of life beyond our solar system. This quest could answer fundamental questions about our place in the universe.\",\n",
    "    \n",
    "    \"International collaboration is key to the future of space exploration. Agencies like NASA, ESA, and Roscosmos often work together on major projects, sharing resources and expertise. These collaborations are essential to the success of large-scale missions, such as building the next generation of space stations.\",\n",
    "    \n",
    "    # Topic 4: Mental Health\n",
    "    \"Mental health is an essential part of overall well-being, yet it is often overlooked. Conditions such as depression, anxiety, and bipolar disorder affect millions of people worldwide, and access to effective treatment remains a challenge in many regions.\",\n",
    "    \n",
    "    \"The stigma surrounding mental health issues prevents many people from seeking help. Education and awareness campaigns are critical in changing public perception and encouraging individuals to prioritize their mental health and seek professional support when needed.\",\n",
    "    \n",
    "    \"Technology is playing an increasingly important role in mental health care. Apps and online platforms provide users with tools for managing stress, anxiety, and other mental health conditions. Teletherapy services have also gained popularity, offering convenient and accessible support.\",\n",
    "    \n",
    "    \"Workplace mental health is a growing area of concern. Stress, burnout, and work-life imbalance are common issues that can negatively impact employees' well-being. Companies are starting to recognize the importance of creating supportive environments that promote mental health.\",\n",
    "    \n",
    "    \"Mental health services are often underfunded, particularly in low- and middle-income countries. Expanding access to affordable, quality mental health care is crucial to addressing the global mental health crisis and ensuring that everyone can receive the support they need.\"\n",
    "]\n"
   ]
  },
  {
   "cell_type": "code",
   "execution_count": 3,
   "metadata": {},
   "outputs": [
    {
     "name": "stderr",
     "output_type": "stream",
     "text": [
      "100%|██████████| 20/20 [00:01<00:00, 12.64it/s]\n"
     ]
    }
   ],
   "source": [
    "vdb.add_documents(paragraphs,ids=[],metadata=[{\"sample\":\"Sample\"}]*20)"
   ]
  },
  {
   "cell_type": "code",
   "execution_count": 30,
   "metadata": {},
   "outputs": [
    {
     "data": {
      "text/plain": [
       "True"
      ]
     },
     "execution_count": 31,
     "metadata": {},
     "output_type": "execute_result"
    }
   ],
   "source": [
    "vdb.client.collection_exists(\"default_schema\")"
   ]
  },
  {
   "cell_type": "code",
   "execution_count": 4,
   "metadata": {},
   "outputs": [],
   "source": [
    "vdb.get_relavant_documents(\"Artificial Intelligence\")"
   ]
  },
  {
   "cell_type": "code",
   "execution_count": 5,
   "metadata": {},
   "outputs": [
    {
     "data": {
      "text/plain": [
       "True"
      ]
     },
     "execution_count": 5,
     "metadata": {},
     "output_type": "execute_result"
    }
   ],
   "source": [
    "vdb.client.delete_collection(\"default_schema\")"
   ]
  },
  {
   "cell_type": "code",
   "execution_count": 12,
   "metadata": {},
   "outputs": [],
   "source": [
    "collection = vdb.client.get_collection(\"default_schema\")"
   ]
  },
  {
   "cell_type": "markdown",
   "metadata": {},
   "source": [
    "# Text Splitter"
   ]
  },
  {
   "cell_type": "code",
   "execution_count": 22,
   "metadata": {},
   "outputs": [],
   "source": [
    "from semantic_text_splitter import TextSplitter\n",
    "\n",
    "class CustomTextSplitter:\n",
    "\n",
    "    def __init__(self,max_chunk_length=300,model_name=\"gpt-4o\"):\n",
    "\n",
    "        self.splitter = TextSplitter.from_tiktoken_model(model_name, max_chunk_length)\n",
    "\n",
    "    def get_chunks(self,documents):\n",
    "\n",
    "        all_chunks = []\n",
    "\n",
    "        metedata = []\n",
    "\n",
    "        for doc in documents:\n",
    "\n",
    "            chunks = self.splitter.chunks(doc[1])\n",
    "\n",
    "            metedata.extend([{\"url\":doc[0]}]*len(chunks))\n",
    "\n",
    "            all_chunks.extend(chunks)\n",
    "\n",
    "        return all_chunks,metedata\n",
    "    \n",
    "# textsplitter =CustomTextSplitter()\n",
    "\n",
    "# chunks = textsplitter.get_chunks(paragraphs)"
   ]
  },
  {
   "cell_type": "code",
   "execution_count": 24,
   "metadata": {},
   "outputs": [],
   "source": [
    "chunks,meta = textsplitter.get_chunks([(i,doc) for i,doc in enumerate(paragraphs)])\n"
   ]
  },
  {
   "cell_type": "code",
   "execution_count": 28,
   "metadata": {},
   "outputs": [
    {
     "data": {
      "text/plain": [
       "67"
      ]
     },
     "execution_count": 28,
     "metadata": {},
     "output_type": "execute_result"
    }
   ],
   "source": [
    "len(chunks)"
   ]
  },
  {
   "cell_type": "code",
   "execution_count": 27,
   "metadata": {},
   "outputs": [
    {
     "data": {
      "text/plain": [
       "67"
      ]
     },
     "execution_count": 27,
     "metadata": {},
     "output_type": "execute_result"
    }
   ],
   "source": [
    "len(meta)"
   ]
  },
  {
   "cell_type": "markdown",
   "metadata": {},
   "source": [
    "# Search Tool"
   ]
  },
  {
   "cell_type": "code",
   "execution_count": null,
   "metadata": {},
   "outputs": [],
   "source": [
    "import asyncio\n",
    "from webscraper import WebSearch\n",
    "from textsplitter import CustomTextSplitter\n",
    "from vectorestores import QdrantVectorStore\n",
    "\n",
    "class SearhTool:\n",
    "\n",
    "    def __init__(self,top_n_urls=2,top_n_chunks=5):\n",
    "\n",
    "        self.top_n_urls=top_n_urls\n",
    "\n",
    "        self.top_n_chunks=top_n_chunks\n",
    "        \n",
    "        self.search_Engine = WebSearch(top_n_urls=self.top_n_urls)\n",
    "\n",
    "        self.textsplitter =CustomTextSplitter()\n",
    "\n",
    "        self.vectore_store = QdrantVectorStore()\n",
    "\n",
    "    async def get_online_details(self,user_question):\n",
    "\n",
    "        # We need to scrap data\n",
    "        print(\"Collecting URLs....\")\n",
    "        scrapped_data = await self.search_Engine.search_online(user_question)\n",
    "\n",
    "        # Split the web pages into smaller chunks\n",
    "\n",
    "        print(\"Scrapping Data....\")\n",
    "        documents, metadata = self.textsplitter.get_chunks(scrapped_data)\n",
    "\n",
    "        # Add chunks and metadata to the vector store\n",
    "\n",
    "        print(\"Adding Data to Vectore Store....\")\n",
    "        self.vectore_store.add_documents(documents=documents,ids=[],metadata=metadata)\n",
    "\n",
    "        # get the relevant documents\n",
    "        print(\"Getting Data From Vectore Store....\")\n",
    "        relevant_documents = self.vectore_store.get_relavant_documents(user_question,top_n_similar_docs=self.top_n_chunks)\n",
    "\n",
    "        # Format the documents\n",
    "\n",
    "        final_data = \"\"\n",
    "\n",
    "        for data in relevant_documents:\n",
    "\n",
    "            final_data+=f\"\\n\\nSource URL : {data['url']}\\nData : {data['document']}\\n\\n\"\n",
    "\n",
    "        return final_data\n",
    "    \n",
    "\n",
    "if __name__ == \"__main__\":\n",
    "\n",
    "    tool = SearhTool()\n",
    "\n",
    "    print(\"Started......\")\n",
    "\n",
    "    data = asyncio.run(tool.get_online_details(\"Who is the CEO of Factspan\"))\n",
    "\n",
    "    print(\"Data: \",data)"
   ]
  }
 ],
 "metadata": {
  "kernelspec": {
   "display_name": "swarm",
   "language": "python",
   "name": "python3"
  },
  "language_info": {
   "codemirror_mode": {
    "name": "ipython",
    "version": 3
   },
   "file_extension": ".py",
   "mimetype": "text/x-python",
   "name": "python",
   "nbconvert_exporter": "python",
   "pygments_lexer": "ipython3",
   "version": "3.12.7"
  }
 },
 "nbformat": 4,
 "nbformat_minor": 2
}
